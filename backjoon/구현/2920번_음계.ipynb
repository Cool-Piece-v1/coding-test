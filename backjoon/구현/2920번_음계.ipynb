{
 "cells": [
  {
   "cell_type": "markdown",
   "id": "81c1ecb9",
   "metadata": {},
   "source": [
    "## 문제. 2920번 음계\n",
    "\n",
    "[바로가기](https://www.acmicpc.net/problem/2920)\n"
   ]
  },
  {
   "cell_type": "markdown",
   "id": "a01fe069",
   "metadata": {},
   "source": [
    "## 문제 풀이\n",
    "\n",
    "\n",
    "### 풀이 1)\n",
    "\n",
    "- 먼저 입력한 문자들을 배열의 형태로 변환하고 앞에서 뒤에꺼랑 비교해준다.\n",
    "- 비교하여 나온 값을 새로운 배열에 넣고 중복을 제거한다.\n",
    "- 만약 중복제거된 배열의 길이가 1이상이면 `mixed`된 상태\n",
    "- 그렇지 않다면 배열의 첫번째를 출력하면 된다.\n",
    "\n",
    "\n",
    "### 풀이의 결과\n",
    "\n",
    "- 굉장히 단순한 문제이다. 사실 굳이 배열에 넣고 변수를 또 만들고 그렇다면 단순한문제인 반면 메모리의 비용적 처리가 아쉬워진다 또한, 시간 복잡도상으로 $O$$(n)$ 의 시간 만큼 걸리게 된다"
   ]
  },
  {
   "cell_type": "code",
   "execution_count": 21,
   "id": "5b6ae417",
   "metadata": {},
   "outputs": [
    {
     "name": "stdout",
     "output_type": "stream",
     "text": [
      "1 2 3 4 5 6 7 8\n",
      "ascending\n"
     ]
    }
   ],
   "source": [
    "n=list(map(int,input().split()))\n",
    "temp=[]\n",
    "for i in range(1,len(n)):\n",
    "    if n[i-1] < n[i]:\n",
    "        temp.append(\"ascending\")\n",
    "    elif  n[i-1] > n[i]:\n",
    "        temp.append(\"descending\")\n",
    "    else:\n",
    "        temp.append(\"mixed\")\n",
    "        \n",
    "set_temp = list(set(temp))\n",
    "\n",
    "if len(set_temp)>1:\n",
    "    print('mixed')\n",
    "else:\n",
    "    print(set_temp[0])"
   ]
  },
  {
   "cell_type": "markdown",
   "id": "c42aefa3",
   "metadata": {},
   "source": [
    "### 풀이 2)\n",
    "\n",
    "- 단순하게 파이썬 내장 함수 중 `sorted`를 사용해서, 정렬에 따라 나타내주도록 하면 된다.\n",
    "- 정렬된 결과를 기존의 입력한 형태와 비교해준 뒤 바뀐 값을 출력하면 된다.\n",
    "\n",
    "\n",
    "### 풀이의 결과\n",
    "\n",
    "- 위의 방법보다 더 효율적이지만, `sorted` 는 퀵 정열과 동작 방식이 비슷한 병합 정렬을 기반으로 만들어졌다.\n",
    "- 병합정렬은 일반적으로 퀵정렬보다 느리지만 최악의 경우에도 시간복잡도 $O$$(NlogN)$을 보장한다는 특징이 있다"
   ]
  },
  {
   "cell_type": "code",
   "execution_count": 23,
   "id": "3efb5f4f",
   "metadata": {},
   "outputs": [
    {
     "name": "stdout",
     "output_type": "stream",
     "text": [
      "8 1 7 2 6 3 5 4\n",
      "mixed\n"
     ]
    }
   ],
   "source": [
    "n=list(map(int,input().split()))\n",
    "if n == sorted(n):\n",
    "    answer='ascending'\n",
    "elif n==sorted(n,reverse=True):\n",
    "    answer='descending'\n",
    "else:\n",
    "    answer='mixed'\n",
    "print(answer)\n"
   ]
  },
  {
   "cell_type": "markdown",
   "id": "b75e93b4",
   "metadata": {},
   "source": [
    "### 풀이 2)\n",
    "\n",
    "- 이번에는 `sorted`를 사용하지 않고 풀이이다.\n",
    "\n",
    "\n",
    "### 풀이의 결과\n",
    "\n",
    "- 길이가 작은 배열일 때는 단순 하드 코딩이 유리할 수 있지만, 배열의 길이가 수천~수만에 달한다면 피해야하는 방법"
   ]
  },
  {
   "cell_type": "code",
   "execution_count": 22,
   "id": "85a8df04",
   "metadata": {},
   "outputs": [
    {
     "name": "stdout",
     "output_type": "stream",
     "text": [
      "1 2 3 4 5 6 7 8\n",
      "ascending\n"
     ]
    }
   ],
   "source": [
    "n=list(map(int,input().split()))\n",
    "\n",
    "if n == [1,2,3,4,5,6,7,8]:\n",
    "    answer='ascending'\n",
    "elif n==[8,7,6,5,4,3,2,1]:\n",
    "    answer='descending'\n",
    "else:\n",
    "    answer='mixed'\n",
    "print(answer)"
   ]
  },
  {
   "cell_type": "code",
   "execution_count": null,
   "id": "2811d85c",
   "metadata": {},
   "outputs": [],
   "source": []
  }
 ],
 "metadata": {
  "kernelspec": {
   "display_name": "Python 3 (ipykernel)",
   "language": "python",
   "name": "python3"
  },
  "language_info": {
   "codemirror_mode": {
    "name": "ipython",
    "version": 3
   },
   "file_extension": ".py",
   "mimetype": "text/x-python",
   "name": "python",
   "nbconvert_exporter": "python",
   "pygments_lexer": "ipython3",
   "version": "3.9.7"
  }
 },
 "nbformat": 4,
 "nbformat_minor": 5
}
