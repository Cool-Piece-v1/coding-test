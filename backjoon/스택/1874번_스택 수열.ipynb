{
 "cells": [
  {
   "cell_type": "markdown",
   "id": "0bc2d465",
   "metadata": {},
   "source": [
    "## 문제. 1874번 스택 수열\n",
    "\n",
    "[바로가기](https://www.acmicpc.net/problem/1874)"
   ]
  },
  {
   "cell_type": "markdown",
   "id": "cb357ae3",
   "metadata": {},
   "source": [
    "## 문제 풀이\n",
    "\n",
    "- 스택의 문제로 나중에 들어온 수가 먼저 빠지게 된다.\n",
    "- 1부터 오름차순으로 주입이 될 때, `+` 를 넣고\n",
    "- 입력한 수와 같아지게 되면, 스택의 최상단의 수를 빼고, `-`를 넣어주낟.\n",
    "- 하지만, 주의점은 반드시 스택에 입력된 수를 연달아 뺄 때, 연달아 빠지는 순서가 다르게 입력을 한다면 `NO`를 출력 후 끝내야한다.\n"
   ]
  },
  {
   "cell_type": "code",
   "execution_count": 1,
   "id": "e0e9b786",
   "metadata": {},
   "outputs": [
    {
     "name": "stdout",
     "output_type": "stream",
     "text": [
      "8\n",
      "4\n",
      "3\n",
      "6\n",
      "8\n",
      "7\n",
      "5\n",
      "2\n",
      "1\n",
      "+\n",
      "+\n",
      "+\n",
      "+\n",
      "-\n",
      "-\n",
      "+\n",
      "+\n",
      "-\n",
      "+\n",
      "+\n",
      "-\n",
      "-\n",
      "-\n",
      "-\n",
      "-\n"
     ]
    }
   ],
   "source": [
    "n=int(input())\n",
    "\n",
    "stack, answer = [], []\n",
    "inputed_stack = 1\n",
    "\n",
    "for i in range(n): # 데이터의 개수만킄 반복\n",
    "    num = int(input())\n",
    "    \n",
    "    while inputed_stack<=num: # 입력 받은 데이터에 도달할 때까지 반복 삽입\n",
    "        stack.append(inputed_stack) # 스택에 쌓고\n",
    "        inputed_stack += 1 # 오름차순으로 증가\n",
    "        answer.append('+') # 증가표시\n",
    "    \n",
    "    if stack[-1] == num: # 스택의 맨마지막의 수와 입력한 수가 같을 때 출력\n",
    "        stack.pop()\n",
    "        answer.append('-')\n",
    "    else: # 불가능한 경우\n",
    "        print(\"NO\")\n",
    "        exit(0) # 실행종료\n",
    "\n",
    "print('\\n'.join(answer))\n",
    "        "
   ]
  },
  {
   "cell_type": "code",
   "execution_count": null,
   "id": "2554d888",
   "metadata": {},
   "outputs": [],
   "source": []
  }
 ],
 "metadata": {
  "kernelspec": {
   "display_name": "Python 3 (ipykernel)",
   "language": "python",
   "name": "python3"
  },
  "language_info": {
   "codemirror_mode": {
    "name": "ipython",
    "version": 3
   },
   "file_extension": ".py",
   "mimetype": "text/x-python",
   "name": "python",
   "nbconvert_exporter": "python",
   "pygments_lexer": "ipython3",
   "version": "3.9.7"
  }
 },
 "nbformat": 4,
 "nbformat_minor": 5
}
