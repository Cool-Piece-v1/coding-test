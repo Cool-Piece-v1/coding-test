{
 "cells": [
  {
   "cell_type": "markdown",
   "id": "95c75bfa",
   "metadata": {},
   "source": [
    "## 문제. 5394번 키로거\n",
    "\n",
    "[바로가기](https://www.acmicpc.net/problem/5397)"
   ]
  },
  {
   "cell_type": "markdown",
   "id": "9f29f136",
   "metadata": {},
   "source": [
    "### 문제 풀이\n",
    "\n",
    "- 백스페이스를 입력하면 = `-`\n",
    "- 화살표 입력은 = `>` , `<`\n",
    "- 커서의 바로 앞에 글자가 존재하면 글자를 삭제\n",
    "- 입력한 문자열(L)의 길이가 최대 1,000,000이므로, "
   ]
  },
  {
   "cell_type": "code",
   "execution_count": null,
   "id": "31aa6369",
   "metadata": {},
   "outputs": [],
   "source": [
    "other_key = [\">\",\"<\",\"-\"]\n",
    "\n",
    "test_case = int(input())\n",
    "\n",
    "for _ in range(test_case):\n",
    "    answer=''\n",
    "    L = input()\n",
    "    \n",
    "    while L:\n",
    "        if strnig not in other_key:\n",
    "            \n",
    "        "
   ]
  }
 ],
 "metadata": {
  "kernelspec": {
   "display_name": "Python 3 (ipykernel)",
   "language": "python",
   "name": "python3"
  },
  "language_info": {
   "codemirror_mode": {
    "name": "ipython",
    "version": 3
   },
   "file_extension": ".py",
   "mimetype": "text/x-python",
   "name": "python",
   "nbconvert_exporter": "python",
   "pygments_lexer": "ipython3",
   "version": "3.9.7"
  }
 },
 "nbformat": 4,
 "nbformat_minor": 5
}
