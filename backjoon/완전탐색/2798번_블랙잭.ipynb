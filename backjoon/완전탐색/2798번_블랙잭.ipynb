{
 "cells": [
  {
   "cell_type": "markdown",
   "id": "749a9096",
   "metadata": {},
   "source": [
    "## 문제. 2789번 블랙\n",
    "\n",
    "\n",
    "## 문제 풀이\n",
    "\n",
    "### 풀이 1) \n",
    "\n",
    "- 완전 탐색 문제이다. 모든 요소에서 3개씩 더한 값을 비교를 해야하는 문제이기 떄문에,\n",
    "- 단순히 3중 for문을 사용하였다.\n",
    "- `temp`라는 배열안에 넣어서 for문이 다 끝나고 비교할 경우 모든 요소를 다 탐색해야한다."
   ]
  },
  {
   "cell_type": "code",
   "execution_count": 42,
   "id": "3e504fdc",
   "metadata": {},
   "outputs": [
    {
     "name": "stdout",
     "output_type": "stream",
     "text": [
      "10 500\n",
      "93 181 245 214 315 36 185 138 216 295\n",
      "497\n"
     ]
    }
   ],
   "source": [
    "n,m = map(int,input().split())\n",
    "data=list(map(int,input().split()))\n",
    "temp=[]\n",
    "answer=0\n",
    "for i in range(n-2):\n",
    "    for j in range(i+1, n-1):\n",
    "        for k in range(j+1, n):\n",
    "            temp.append(data[i]+data[j]+data[k])\n",
    "        \n",
    "for t in sorted(temp):\n",
    "    if t <= m:\n",
    "        answer=t\n",
    "        \n",
    "print(answer)"
   ]
  },
  {
   "cell_type": "markdown",
   "id": "a084f3ce",
   "metadata": {},
   "source": [
    "### What I Learn?\n",
    "\n",
    "- 하지만 이렇게 할 경우, for문이 다 끝나고 모두 더한 요소의 `temp`에서 다시한번 반복문을 사용하여, 비교를 해야한다. \n",
    "- 시간 복잡도로 $O$$(n^3 + n)$이 나오게된다.\n",
    "- 이부분에 대해서 성능을 향상 시킬 수 있다고 판단하여 다른 풀이를 생각했다.\n"
   ]
  },
  {
   "cell_type": "markdown",
   "id": "d906575e",
   "metadata": {},
   "source": [
    "### 풀이 2)\n",
    "\n",
    "- 더한 값을 바로 비교해주면서 $O$$(n^3)$ 까지 향상시킬 수 있다.\n"
   ]
  },
  {
   "cell_type": "code",
   "execution_count": 43,
   "id": "9e0d8c39",
   "metadata": {},
   "outputs": [
    {
     "name": "stdout",
     "output_type": "stream",
     "text": [
      "5 21\n",
      "5 6 7 8 9\n",
      "21\n"
     ]
    }
   ],
   "source": [
    "n,m = map(int,input().split())\n",
    "data=list(map(int,input().split()))\n",
    "\n",
    "result=0\n",
    "length=len(data)\n",
    "\n",
    "count=0\n",
    "for i in range(0,length):\n",
    "    for j in range(i+1,length):\n",
    "        for k in range(j+1, length):\n",
    "            sum_value=data[i]+data[j]+data[k]\n",
    "            if sum_value<=m:\n",
    "                result=max(result,sum_value)\n",
    "print(result)"
   ]
  }
 ],
 "metadata": {
  "kernelspec": {
   "display_name": "Python 3 (ipykernel)",
   "language": "python",
   "name": "python3"
  },
  "language_info": {
   "codemirror_mode": {
    "name": "ipython",
    "version": 3
   },
   "file_extension": ".py",
   "mimetype": "text/x-python",
   "name": "python",
   "nbconvert_exporter": "python",
   "pygments_lexer": "ipython3",
   "version": "3.9.7"
  }
 },
 "nbformat": 4,
 "nbformat_minor": 5
}
