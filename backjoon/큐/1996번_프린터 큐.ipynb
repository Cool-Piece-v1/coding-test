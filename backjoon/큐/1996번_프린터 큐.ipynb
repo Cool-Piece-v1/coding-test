{
 "cells": [
  {
   "cell_type": "markdown",
   "id": "49a2ff39",
   "metadata": {},
   "source": [
    "## 문제. 1996번 프린터 큐\n",
    "\n",
    "[바로가기](https://www.acmicpc.net/problem/1966)"
   ]
  },
  {
   "cell_type": "markdown",
   "id": "543c4264",
   "metadata": {},
   "source": [
    "### 문제 풀이\n",
    "\n",
    "- `FIFO`에 관한 문제이고 말그대로 `선입선출`의 구조로 문서를 출력하는 것이다.\n",
    "- 조건이 존재하는데, 중요도 순에 따라 큐를 적용하는 것이다.\n",
    "- 예를 들어, 2 1 4 3 이라면, 가장 중요한 4를 가지고 있는 위치의 수를 먼저 출력하고, 그다음 3 다시 첫 번쨰로 와서 2 그다음 1이 된다."
   ]
  },
  {
   "cell_type": "code",
   "execution_count": 41,
   "id": "7c5cbca1",
   "metadata": {},
   "outputs": [
    {
     "name": "stdout",
     "output_type": "stream",
     "text": [
      "3\n",
      "1 0\n",
      "5\n",
      "1\n",
      "4 2\n",
      "1 2 3 4\n",
      "2\n",
      "6 0\n",
      "1 1 9 1 1 1\n",
      "5\n"
     ]
    }
   ],
   "source": [
    "# 테스트 케이스\n",
    "test_case=int(input())\n",
    "\n",
    "for _ in range(test_case):\n",
    "    # n : 문서의 개수 / m : 몇번쨰로 인쇄되었는지 궁금한 문서의 현 위치\n",
    "    n, m = map(int, input().split())\n",
    "    queue = list( map(int, input().split()))\n",
    "    queue=[(number,idx) for idx, number in enumerate(queue)]\n",
    "\n",
    "    count=0\n",
    "\n",
    "    while True:\n",
    "         # 첫번째 항과 최대값이 같으면 즉, 뽑은 수가 가장 큰 수라면\n",
    "        if queue[0][0] == max(queue, key=lambda x:x[0])[0]: \n",
    "            count+=1 # 카운트를 올린다. 중요도순으로 빠져야 하기 때문에\n",
    "            if queue[0][1]==m: # 빠지길 원하는 위치의 수라면 \n",
    "                print(count) # 해당 카운트를 출력하고 \n",
    "                break # 끝낸다.\n",
    "            else: # 빠지길 원하는 위치의 수가 아니라면?\n",
    "                queue.pop(0) # 해당 숫자만 뺸다.\n",
    "        else: # 뽑은 숫자가 제일 큰 숫자가 아니면\n",
    "            queue.append(queue.pop(0)) # 제일 뒤로 밀어낸다."
   ]
  }
 ],
 "metadata": {
  "kernelspec": {
   "display_name": "Python 3 (ipykernel)",
   "language": "python",
   "name": "python3"
  },
  "language_info": {
   "codemirror_mode": {
    "name": "ipython",
    "version": 3
   },
   "file_extension": ".py",
   "mimetype": "text/x-python",
   "name": "python",
   "nbconvert_exporter": "python",
   "pygments_lexer": "ipython3",
   "version": "3.9.7"
  }
 },
 "nbformat": 4,
 "nbformat_minor": 5
}
