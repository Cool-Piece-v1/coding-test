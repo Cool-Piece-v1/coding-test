{
 "cells": [
  {
   "cell_type": "markdown",
   "id": "6c2e5362",
   "metadata": {},
   "source": [
    "## 문제\n",
    "\n",
    "### 개인 정보 수집 유효기간\n",
    "\n",
    "[바로가기](https://school.programmers.co.kr/learn/courses/30/lessons/150370)"
   ]
  },
  {
   "cell_type": "markdown",
   "id": "060f6704",
   "metadata": {},
   "source": [
    "## 풀이"
   ]
  },
  {
   "cell_type": "code",
   "execution_count": null,
   "id": "c775eac2",
   "metadata": {},
   "outputs": [],
   "source": [
    "# 비교를 해야하는데.. 어떻게 무슨 기준?\n",
    "# 날짜비교 => 수학으로 날을 다 단위를 최소단위 일\n",
    "\n",
    "def date_extraction(date):\n",
    "    return date.split('.')\n",
    "def year(date):\n",
    "    return int(date[0])\n",
    "def month(date):\n",
    "    return int(date[1])\n",
    "def day(date):\n",
    "    return int(date[2])\n",
    "\n",
    "def compareDay(total_today, total_p_day):\n",
    "    if total_today >= total_p_day:\n",
    "        return True\n",
    "\n",
    "def solution(today, terms, privacies):\n",
    "    answer, newTerms = [],{}\n",
    "    \n",
    "    # today의 년 월 일\n",
    "    today_year, today_month, today_day = year(date_extraction(today)), month(date_extraction(today)), day(date_extraction(today))\n",
    "    total_today = (today_year * 12 * 28) +  (today_month * 28) +  today_day\n",
    "\n",
    "    # tersms 구분 딕셔너리\n",
    "    for term in terms:\n",
    "        value = term.split(' ')\n",
    "        newTerms[value[0]]=value[1]\n",
    "        \n",
    "    for idx,privacie in enumerate(privacies):\n",
    "        date,term  = privacie.split(' ')\n",
    "\n",
    "        # privacies의 년 월 일\n",
    "        p_year, p_month, p_day = year(date_extraction(date)), month(date_extraction(date)),day(date_extraction(date))\n",
    "\n",
    "        if  p_month + int(newTerms[term]) > 12: \n",
    "            new_month = abs(p_month + int(newTerms[term]))-12\n",
    "            p_year += 1\n",
    "            \n",
    "            p_total = (p_year * 28 * 12) + (new_month * 28) + p_day\n",
    "            if compareDay(total_today, p_total):\n",
    "                answer.append(idx+1)\n",
    "                \n",
    "        else:\n",
    "            new_month = (p_month + int(newTerms[term]))\n",
    "            p_total = (p_year * 28 * 12) + (new_month * 28) + p_day\n",
    "\n",
    "            if compareDay(total_today, p_total):\n",
    "                answer.append(idx+1) \n",
    "\n",
    "    return answer"
   ]
  }
 ],
 "metadata": {
  "kernelspec": {
   "display_name": "Python 3 (ipykernel)",
   "language": "python",
   "name": "python3"
  },
  "language_info": {
   "codemirror_mode": {
    "name": "ipython",
    "version": 3
   },
   "file_extension": ".py",
   "mimetype": "text/x-python",
   "name": "python",
   "nbconvert_exporter": "python",
   "pygments_lexer": "ipython3",
   "version": "3.9.7"
  }
 },
 "nbformat": 4,
 "nbformat_minor": 5
}
