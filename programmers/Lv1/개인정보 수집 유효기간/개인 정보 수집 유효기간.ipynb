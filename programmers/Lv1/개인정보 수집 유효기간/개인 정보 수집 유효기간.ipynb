{
 "cells": [
  {
   "cell_type": "markdown",
   "id": "6c2e5362",
   "metadata": {},
   "source": [
    "## 문제\n",
    "\n",
    "### 개인 정보 수집 유효기간\n",
    "\n",
    "[바로가기](https://school.programmers.co.kr/learn/courses/30/lessons/150370)"
   ]
  },
  {
   "cell_type": "markdown",
   "id": "060f6704",
   "metadata": {},
   "source": [
    "## 풀이"
   ]
  },
  {
   "cell_type": "code",
   "execution_count": null,
   "id": "c775eac2",
   "metadata": {},
   "outputs": [],
   "source": [
    "# 비교를 해야하는데.. 어떻게 무슨 기준?\n",
    "# 날짜비교 => 수학으로 날을 다 단위를 최소단위 일\n",
    "\n",
    "def date_extraction(date):\n",
    "    return date.split('.')\n",
    "def year(date):\n",
    "    return int(date[0])\n",
    "def month(date):\n",
    "    return int(date[1])\n",
    "def day(date):\n",
    "    return int(date[2])\n",
    "\n",
    "def solution(today, terms, privacies):\n",
    "    answer = []\n",
    "    newTerms={}\n",
    "    today_year, today_month, today_day = year(date_extraction(today)), month(date_extraction(today)), day(date_extraction(today))\n",
    "    \n",
    "    total = (today_year * 12 * 28) + (today_month * 28) + today_day\n",
    "\n",
    "    # tersms 구분\n",
    "    for term in terms:\n",
    "        value = term.split(' ')\n",
    "        newTerms[value[0]]=value[1]\n",
    "        \n",
    "    \n",
    "    for idx,privacie in enumerate(privacies):\n",
    "        date,term  = privacie.split(' ')\n",
    "\n",
    "        p_year = year(date_extraction(date))\n",
    "        p_month = month(date_extraction(date))\n",
    "        p_day = day(date_extraction(date))\n",
    "    \n",
    "        if p_month - int(newTerms[term]) < 0: # 월이 더 작을겨우\n",
    "            new_month = 12-abs((p_month-int(newTerms[term])))\n",
    "            today_year -= 1\n",
    "            p_total = p_year * (28 * 12) + p_month * 28 + p_day\n",
    "            \n",
    "            if total>=p_total:\n",
    "                answer.append(idx+1)\n",
    "        elif p_month - int(newTerms[term]) == 0: # 동등\n",
    "            today_year -= 1            \n",
    "            if total>=p_total:\n",
    "                answer.append(idx+1)\n",
    "\n",
    "        else:\n",
    "            new_month = today_month-int(newTerms[term]) # 양수\n",
    "            p_total = p_year * (28 * 12) + p_month * 28 + p_day\n",
    "            print(privacie, total, p_total)\n",
    "\n",
    "            if total>=p_total:\n",
    "\n",
    "                answer.append(idx+1)    \n",
    "\n",
    "    return answer"
   ]
  }
 ],
 "metadata": {
  "kernelspec": {
   "display_name": "Python 3 (ipykernel)",
   "language": "python",
   "name": "python3"
  },
  "language_info": {
   "codemirror_mode": {
    "name": "ipython",
    "version": 3
   },
   "file_extension": ".py",
   "mimetype": "text/x-python",
   "name": "python",
   "nbconvert_exporter": "python",
   "pygments_lexer": "ipython3",
   "version": "3.9.7"
  }
 },
 "nbformat": 4,
 "nbformat_minor": 5
}
