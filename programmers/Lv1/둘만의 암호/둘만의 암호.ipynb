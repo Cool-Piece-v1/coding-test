{
 "cells": [
  {
   "cell_type": "markdown",
   "id": "f67d8d02",
   "metadata": {},
   "source": [
    "## 문제. 둘만의 암호\n",
    "\n",
    "[바로가기](https://school.programmers.co.kr/learn/courses/30/lessons/155652#)"
   ]
  },
  {
   "cell_type": "markdown",
   "id": "4a8505fd",
   "metadata": {},
   "source": [
    "## 풀이 방법\n",
    "\n",
    "### 1) 인덱스를 초과하는 경우일 때를 어떻게 다룰 것인가?\n",
    "\n",
    "- 알파벳을 skip하고 나서, index값이 해당 배열의 길이를 초과하는 경우가 발생한다.\n",
    "- 이떄, 스킵한 알파벳 리스트에서 s의 인덱스와 argument로 들어온 index를 더하고 전체 스킵한 알파벳 리스트로 나눈 나머지의 값이\n",
    "- 결국에는 넘어가는 범위를 다루게 된다."
   ]
  },
  {
   "cell_type": "code",
   "execution_count": null,
   "id": "b710a8bd",
   "metadata": {},
   "outputs": [],
   "source": [
    "def solution(s, skip, index):\n",
    "    answer = ''\n",
    "    alpahbets = [\"a\",\"b\",\"c\",\"d\",\"e\",\"f\",\"g\",\"h\",\"i\",\n",
    "                 \"j\",\"k\",\"l\",\"m\",\"n\",\"o\",\"p\",\"q\",\"r\",\n",
    "                 \"s\",\"t\",\"u\",\"v\",\"w\",\"x\",\"y\",\"z\"]\n",
    "    alpahbets_sub_skip = [x for x in alpahbets if x not in skip] # skip하고 남은 알파벳들\n",
    "    \n",
    "    for string in s:\n",
    "        # s의 문자 인덱스 + index를 alpahbets_sub_skip 의 길이로 나눈 나머지를 알파벳으로 변환\n",
    "        targetIndex = (alpahbets_sub_skip.index(string) + index) % len(alpahbets_sub_skip)\n",
    "        changed_alpahbet= alpahbets_sub_skip[targetIndex] \n",
    "        answer += changed_alpahbet\n",
    "\n",
    "    return answer"
   ]
  }
 ],
 "metadata": {
  "kernelspec": {
   "display_name": "Python 3 (ipykernel)",
   "language": "python",
   "name": "python3"
  },
  "language_info": {
   "codemirror_mode": {
    "name": "ipython",
    "version": 3
   },
   "file_extension": ".py",
   "mimetype": "text/x-python",
   "name": "python",
   "nbconvert_exporter": "python",
   "pygments_lexer": "ipython3",
   "version": "3.9.7"
  }
 },
 "nbformat": 4,
 "nbformat_minor": 5
}
