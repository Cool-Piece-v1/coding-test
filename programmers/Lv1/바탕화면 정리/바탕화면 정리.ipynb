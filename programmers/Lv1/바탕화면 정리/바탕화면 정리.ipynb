{
 "cells": [
  {
   "cell_type": "markdown",
   "id": "aaef5e1a",
   "metadata": {},
   "source": [
    "## 문제\n",
    "\n",
    "### 바탕화면 정리\n",
    "\n",
    "[바로가기](https://school.programmers.co.kr/learn/courses/30/lessons/161990?language=python3)"
   ]
  },
  {
   "cell_type": "markdown",
   "id": "60475395",
   "metadata": {},
   "source": [
    "## 풀이"
   ]
  },
  {
   "cell_type": "code",
   "execution_count": 1,
   "id": "5c1c9b36",
   "metadata": {},
   "outputs": [],
   "source": [
    "# 규칙발견\n",
    "def solution(wallpaper):\n",
    "    answer = []\n",
    "    \n",
    "    for x in range(len(wallpaper)):\n",
    "        for y in range(len(wallpaper[x])):\n",
    "            if wallpaper[x][y] == '#' :\n",
    "                # 맨 왼쪽의 파일의 x축\n",
    "                if  len(answer) == 0:\n",
    "                    answer.append(x) # 맨 처음 파일의 x축\n",
    "                    answer.append(y) # 맨 처음 파일의 y축\n",
    "                    answer.append(x)\n",
    "                    answer.append(y+1)\n",
    "\n",
    "                # 맨 왼쪽의 파일의 y축\n",
    "                if answer[1]>y:\n",
    "                    answer.pop(1)\n",
    "                    answer.insert(1,y)\n",
    "\n",
    "                # 맨 아래 파일의 x축\n",
    "                if answer[2] < x+1:\n",
    "                    answer.pop(2)\n",
    "                    answer.insert(2,x+1)\n",
    "\n",
    "                # 맨 오른쪽 파일의 y축\n",
    "                if answer[3] < y+1:\n",
    "                    answer.pop(3)\n",
    "                    answer.insert(3,y+1)                \n",
    "\n",
    "    return answer"
   ]
  }
 ],
 "metadata": {
  "kernelspec": {
   "display_name": "Python 3 (ipykernel)",
   "language": "python",
   "name": "python3"
  },
  "language_info": {
   "codemirror_mode": {
    "name": "ipython",
    "version": 3
   },
   "file_extension": ".py",
   "mimetype": "text/x-python",
   "name": "python",
   "nbconvert_exporter": "python",
   "pygments_lexer": "ipython3",
   "version": "3.9.7"
  }
 },
 "nbformat": 4,
 "nbformat_minor": 5
}
