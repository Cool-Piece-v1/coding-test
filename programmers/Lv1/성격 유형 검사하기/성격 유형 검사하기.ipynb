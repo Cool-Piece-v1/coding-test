{
 "cells": [
  {
   "cell_type": "markdown",
   "id": "cad36d53",
   "metadata": {},
   "source": [
    "## 문제. 성격 유형 검사하기\n",
    "\n",
    "[문제 보러가기](https://school.programmers.co.kr/learn/courses/30/lessons/118666?language=python3)\n",
    "\n",
    "\n"
   ]
  },
  {
   "cell_type": "markdown",
   "id": "a06912f6",
   "metadata": {},
   "source": [
    "## 풀이 방법\n",
    "\n",
    "-제한사항에서 주의점을 파악\n",
    "- `survey`의 원소는 `\"RT\", \"TR\", \"FC\", \"CF\", \"MJ\", \"JM\", \"AN\", \"NA\"` 중 하나입니다.\n",
    "- 따라서, 미리 사전을 만들어서 체크하는 기준을 세우면 좋을 것 같다는 생각을 하였다.\n",
    "- 중요한점은 유형에 따른 점수가 반대로 줄 수 있다는 점\n",
    "- 예를 들어서, `RT`형일때, 5번은 T에 +1점, `TR`형일때, 5번은 R에 +1점 이라는 것이다.\n",
    "- 따라서 사전에 들어가는 점수 박스를 미리 만들어 넣고, 반대의 유형일때는 슬라이싱을 통해 반대로 점수를 주도록 하면 될 것 같다는 판다"
   ]
  },
  {
   "cell_type": "markdown",
   "id": "a1d32229",
   "metadata": {},
   "source": [
    "## 풀이 코드"
   ]
  },
  {
   "cell_type": "code",
   "execution_count": null,
   "id": "328fcac7",
   "metadata": {},
   "outputs": [],
   "source": [
    "def solution(survey, choices):\n",
    "    answer = ''\n",
    "\n",
    "    socre_box = [None,3,2,1,0] # 점수 표 첫 번째 인자 쓰이지 않는 빈자리로 표현\n",
    "\n",
    "    character=[\"RT\",\"CF\",\"JM\",\"AN\"]\n",
    "    \n",
    "    character_dict = {\n",
    "        \"R\":0, \"T\":0,\n",
    "        \"C\":0, \"F\":0,\n",
    "        \"J\":0, \"M\":0,\n",
    "        \"A\":0, \"N\":0,\n",
    "    }\n",
    "\n",
    "    # 성격 사전(character_dict)에 점수를 추가하는 로직 \n",
    "    for idx,s in enumerate(survey):\n",
    "        score = choices[idx]\n",
    "        if score <= 3:\n",
    "            character_dict[s[0]]+=socre_box[choices[idx]]\n",
    "        elif score == 4:\n",
    "            character_dict[s[0]]+=0\n",
    "            character_dict[s[1]]+=0\n",
    "        else :\n",
    "            character_dict[s[1]]+=socre_box[-abs(3-choices[idx])]\n",
    "\n",
    "            \n",
    "    # 성격(character)에 따른 유형 출력 \n",
    "    for i in range(len(character)):\n",
    "        # 왼쪽의 점수가 더 클경우\n",
    "        # ex) RT중 R의 점수가 T보다 클 경우\n",
    "        if character_dict[character[i][0]] > character_dict[character[i][1]]:\n",
    "            answer+=character[i][0]\n",
    "        # 왼쪽의 점수와 오른쪽의 점수가 동일할 경우\n",
    "        # ex) R과 T의 점수가 동일한 경우 사전순\n",
    "        elif character_dict[character[i][0]] == character_dict[character[i][1]]:\n",
    "            asc = min(character[i][0],character[i][1]) \n",
    "            answer+=asc \n",
    "        # 왼쪽의 점수보다 오른쪽의 점수가 더 클 경우\n",
    "        # ex) RT중 R의 점수보다 T가 클 경우\n",
    "        else:\n",
    "            answer+=character[i][1]\n",
    "    \n",
    "    return answer"
   ]
  }
 ],
 "metadata": {
  "kernelspec": {
   "display_name": "Python 3 (ipykernel)",
   "language": "python",
   "name": "python3"
  },
  "language_info": {
   "codemirror_mode": {
    "name": "ipython",
    "version": 3
   },
   "file_extension": ".py",
   "mimetype": "text/x-python",
   "name": "python",
   "nbconvert_exporter": "python",
   "pygments_lexer": "ipython3",
   "version": "3.9.7"
  }
 },
 "nbformat": 4,
 "nbformat_minor": 5
}
