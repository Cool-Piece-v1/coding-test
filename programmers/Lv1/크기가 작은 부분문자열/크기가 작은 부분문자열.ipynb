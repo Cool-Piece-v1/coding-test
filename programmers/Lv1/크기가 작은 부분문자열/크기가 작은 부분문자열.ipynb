{
 "cells": [
  {
   "cell_type": "markdown",
   "id": "38715c13",
   "metadata": {},
   "source": [
    "## 문제 \n",
    "\n",
    "### 크기가 작은 부분문자열\n",
    "\n",
    "[바로가기](https://school.programmers.co.kr/learn/courses/30/lessons/147355)"
   ]
  },
  {
   "cell_type": "markdown",
   "id": "7d0865b7",
   "metadata": {},
   "source": [
    "## 풀이\n",
    "\n",
    "- t의 문자열에서 p의 자리수만큼 잘라서, 숫자를 비교한다.\n",
    "- 따라서, 문자열을 p의 자리수만큼 슬라이싱하도록 한다."
   ]
  },
  {
   "cell_type": "code",
   "execution_count": null,
   "id": "ef854d05",
   "metadata": {},
   "outputs": [],
   "source": [
    "def slice_string(string, comparison):\n",
    "    if int(string) <= int(comparison):\n",
    "        return 1\n",
    "\n",
    "def solution(t, p):\n",
    "    answer = 0\n",
    "    t_len, p_len = len(t), len(p) # t의 자리수와 p의 자리수\n",
    "    temp = 0 \n",
    "    for i in range(p_len, t_len+1): # t의 자리수 부터 p의 자리수 만큼의 반복을 실행\n",
    "        if slice_string(t[temp:i], p) == 1: # t[temp:i]: 처음부터 p의 자리수 만큼 슬라이싱\n",
    "            answer+=1\n",
    "        temp+=1\n",
    "    return answer"
   ]
  }
 ],
 "metadata": {
  "kernelspec": {
   "display_name": "Python 3 (ipykernel)",
   "language": "python",
   "name": "python3"
  },
  "language_info": {
   "codemirror_mode": {
    "name": "ipython",
    "version": 3
   },
   "file_extension": ".py",
   "mimetype": "text/x-python",
   "name": "python",
   "nbconvert_exporter": "python",
   "pygments_lexer": "ipython3",
   "version": "3.9.7"
  }
 },
 "nbformat": 4,
 "nbformat_minor": 5
}
