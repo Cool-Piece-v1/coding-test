{
 "cells": [
  {
   "cell_type": "markdown",
   "id": "aaef5e1a",
   "metadata": {},
   "source": [
    "## 문제. JadenCase 문자열 만들기\n",
    "\n",
    "[바로가기](https://school.programmers.co.kr/learn/courses/30/lessons/12951)"
   ]
  },
  {
   "cell_type": "markdown",
   "id": "60475395",
   "metadata": {},
   "source": [
    "## 풀이 방법\n",
    "\n",
    "- 너무 간단한 문제였다. 맨 앞의 문자만 대문자형태로 변환해주는 것\n",
    "- 한가지 포인트는 숫자형태일때는 대문자를 쓰지 않는 것이다.\n",
    "- 하지만 이미 파이썬에서 이를 지원해주는 메서드가 있었다.\n",
    "- 우선 argument로 주어진 문자에서 `split`을 사용하여 띄어쓰기 기준 분리를 한 후,\n",
    "- for문을 통해서 `capitalize()`를 사용한다.\n",
    "\n",
    "### 대문자 변환 메서드\n",
    "\n",
    "- `upper()` : 가장 대표적으로 모든 알파벳을 대문자로 변환\n",
    "- `capitalize()` : 맨 첫그라자만 대문자로 변환\n",
    "- `title()` : 알파벳외의 문자(숫자, 특수기호, 띄어쓰기 등)로 나누어져 있느 ㄴ영단어들의 첫글자를 모두 대문자로 \n"
   ]
  },
  {
   "cell_type": "code",
   "execution_count": 4,
   "id": "0440c243",
   "metadata": {},
   "outputs": [
    {
     "name": "stdout",
     "output_type": "stream",
     "text": [
      "ABCD\n",
      "Abcd\n",
      "Abcd\n",
      "-----------------\n",
      "A2B3C4\n",
      "A2b3c4\n",
      "A2B3C4\n",
      "-----------------\n",
      "ABC-DEF-EFG\n",
      "Abc-def-efg\n",
      "Abc-Def-Efg\n"
     ]
    }
   ],
   "source": [
    "data = 'abcd'\n",
    "print(data.upper())  # ABCD\n",
    "print(data.capitalize()) # Abcd\n",
    "print(data.title()) # Abcd\n",
    "print('-----------------')\n",
    "data2= 'a2b3c4'\n",
    "print(data2.upper()) # A2B3C4\n",
    "print(data2.capitalize()) # A2b3c4\n",
    "print(data2.title())  # A2B3C4\n",
    "print('-----------------')\n",
    "data3 = 'abc-def-efg'\n",
    "print(data3.upper()) # ABC-DEF-EFG\n",
    "print(data3.capitalize()) # Abc-def-efg\n",
    "print(data3.title())  # Abc-Def-Efg"
   ]
  },
  {
   "cell_type": "code",
   "execution_count": 1,
   "id": "5c1c9b36",
   "metadata": {},
   "outputs": [],
   "source": [
    "def solution(s):\n",
    "    answer = []    \n",
    "    splited_string_array = s.split(' ')\n",
    "    \n",
    "    for string in splited_string_array:\n",
    "        answer.append(string.capitalize())\n",
    "            \n",
    "    return ' '.join(answer)"
   ]
  }
 ],
 "metadata": {
  "kernelspec": {
   "display_name": "Python 3 (ipykernel)",
   "language": "python",
   "name": "python3"
  },
  "language_info": {
   "codemirror_mode": {
    "name": "ipython",
    "version": 3
   },
   "file_extension": ".py",
   "mimetype": "text/x-python",
   "name": "python",
   "nbconvert_exporter": "python",
   "pygments_lexer": "ipython3",
   "version": "3.9.7"
  }
 },
 "nbformat": 4,
 "nbformat_minor": 5
}
