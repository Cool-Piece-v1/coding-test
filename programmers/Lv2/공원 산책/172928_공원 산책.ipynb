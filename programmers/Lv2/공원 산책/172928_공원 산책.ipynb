{
 "cells": [
  {
   "cell_type": "markdown",
   "id": "f6785b9c",
   "metadata": {},
   "source": [
    "## 문제. 공원 산책\n",
    "\n",
    "### 링크\n",
    "- [문제](https://school.programmers.co.kr/learn/courses/30/lessons/172928)\n",
    "\n",
    "\n",
    "## 문제 풀이\n",
    "\n",
    "### 초기 풀이\n",
    "\n",
    "- 무시 조건\n",
    "    1. 주어진 방향으로 이동할 때 공원이 벗어나면\n",
    "    2. 주어진 방향으로 이동 중 장애물이 있는지\n",
    "\n",
    "- routes에 대하여 for문을 돌렸을 떄, if문의 무시조건을 방어 코드로 넣는다.\n",
    "- 모두 통과 될 경우에 해당 리스트의 요소를 S의 요소로 대체해준다."
   ]
  },
  {
   "cell_type": "code",
   "execution_count": null,
   "id": "2d6f3194",
   "metadata": {},
   "outputs": [],
   "source": []
  },
  {
   "cell_type": "markdown",
   "id": "58650b6a",
   "metadata": {},
   "source": [
    "### 나중 풀이"
   ]
  },
  {
   "cell_type": "code",
   "execution_count": null,
   "id": "6a8ef891",
   "metadata": {},
   "outputs": [],
   "source": [
    "def solution(park, routes):\n",
    "    # 위치 index\n",
    "    x = 0\n",
    "    y = 0 \n",
    "    \n",
    "    # 시작 위치 찾기\n",
    "    for i in range(len(park)):\n",
    "        for j in range(len(park[i])):\n",
    "            if park[i][j] == 'S':\n",
    "                x = j\n",
    "                y = i\n",
    "                break\n",
    "    \n",
    "    # 이동\n",
    "    for route in routes:\n",
    "        # 위치 초기화\n",
    "        xx = x\n",
    "        yy = y\n",
    "        # 이동 - 장애물이 있거나 공원을 벗어나면 명령 무시\n",
    "        for step in range(int(route[2])):\n",
    "            # 동쪽 : 현재 위치가 map 가장 오른쪽이면 안됨, 이동할 곳이 장애물이면 안됨\n",
    "            if route[0] == 'E' and xx != len(park[0])-1 and park[yy][xx+1] != 'X':\n",
    "                xx += 1\n",
    "                if step == int(route[2])-1:\n",
    "                    x = xx # step만큼 움직였으면 위치 초기화\n",
    "            # 서쪽 : 현재 위치가 map 가장 왼쪽이면 안됨, 이동할 곳이 장애물이면 안됨\n",
    "            elif route[0] == 'W' and xx != 0 and park[yy][xx-1] != 'X':\n",
    "                xx -= 1\n",
    "                if step == int(route[2])-1:\n",
    "                    x = xx\n",
    "            # 남쪽 : 현재 위치가 map 가장 아래쪽이면 안됨, 이동할 곳이 장애물이면 안됨\n",
    "            elif route[0] == 'S' and yy != len(park)-1 and park[yy+1][xx] != 'X':\n",
    "                yy += 1\n",
    "                if step == int(route[2])-1:\n",
    "                    y = yy\n",
    "            # 북쪽 : 현재 위치가 map 가장 위쪽이면 안됨, 이동할 곳이 장애물이면 안됨\n",
    "            elif route[0] == 'N' and yy != 0 and park[yy-1][xx] != 'X':\n",
    "                yy -= 1\n",
    "                if step == int(route[2])-1:\n",
    "                    y = yy\n",
    "                    \n",
    "    return [y, x]"
   ]
  }
 ],
 "metadata": {
  "kernelspec": {
   "display_name": "Python 3 (ipykernel)",
   "language": "python",
   "name": "python3"
  },
  "language_info": {
   "codemirror_mode": {
    "name": "ipython",
    "version": 3
   },
   "file_extension": ".py",
   "mimetype": "text/x-python",
   "name": "python",
   "nbconvert_exporter": "python",
   "pygments_lexer": "ipython3",
   "version": "3.9.7"
  }
 },
 "nbformat": 4,
 "nbformat_minor": 5
}
