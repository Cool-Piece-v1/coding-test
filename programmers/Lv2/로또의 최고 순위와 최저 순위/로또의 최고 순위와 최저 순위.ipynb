{
 "cells": [
  {
   "cell_type": "markdown",
   "id": "4bb1d292",
   "metadata": {},
   "source": [
    "## 문제. 로또의 최고 순위와 최저 순위\n",
    "\n",
    "[바로가기](https://school.programmers.co.kr/learn/courses/30/lessons/77484)"
   ]
  },
  {
   "cell_type": "markdown",
   "id": "5ee18d2a",
   "metadata": {},
   "source": [
    "### 문제 풀이\n",
    "\n",
    "\n"
   ]
  },
  {
   "cell_type": "code",
   "execution_count": null,
   "id": "81cdb8d3",
   "metadata": {},
   "outputs": [],
   "source": [
    "def solution(lottos, win_nums):\n",
    "\n",
    "    rank = [6, 6, 5, 4, 3, 2, 1]\n",
    "\n",
    "    same = set(win_nums) - set(lottos)\n",
    "    min = len(lottos) - len(same)\n",
    "    max = min\n",
    "    cnt_0 = lottos.count(0)\n",
    "    max = min + cnt_0\n",
    "\n",
    "    return [rank[max], rank[min]]"
   ]
  }
 ],
 "metadata": {
  "kernelspec": {
   "display_name": "Python 3 (ipykernel)",
   "language": "python",
   "name": "python3"
  },
  "language_info": {
   "codemirror_mode": {
    "name": "ipython",
    "version": 3
   },
   "file_extension": ".py",
   "mimetype": "text/x-python",
   "name": "python",
   "nbconvert_exporter": "python",
   "pygments_lexer": "ipython3",
   "version": "3.9.7"
  }
 },
 "nbformat": 4,
 "nbformat_minor": 5
}
